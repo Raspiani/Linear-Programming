{
 "cells": [
  {
   "cell_type": "markdown",
   "metadata": {},
   "source": [
    "## Linear Programming - Menyelesaikan Persoalan Kehidupan Sehari-hari dengan LP\n",
    "\n",
    "Berikut ini contoh persoalan dan penyelesaian dengan menggunakan linear programming. \n",
    "\n",
    "Untuk menyelesaikan permasalahan tersebut secara program dalam tutorial ini digunakan salah satu modul yang cukup populer terkait linear programming yaitu modul pulp di python. \n",
    "\n",
    "Pulp lebih lengkapnya dapat dibaca disini https://pypi.org/project/PuLP/1.6.10/"
   ]
  },
  {
   "cell_type": "markdown",
   "metadata": {},
   "source": [
    "### Contoh Soal:\n",
    "    Makan Malam apa ya?\n",
    "Dalam hal ini, diberikan suatu persoalan yaitu bagaimana menentukan menu diet dengan biaya terendah yang menyediakan jumlah protein yang cukup. Dimana tersedia dua pilihan yaitu:\n",
    "   1. Steak, mengandung 2 unit protein/pound dengan harga $3/pound \n",
    "   \n",
    "   2. Peanute Butter, mengandung 1 unit protein/pound dengan harga $2/pound\n",
    "   \n",
    "   \n",
    "   Constrains:\n",
    "   - Dalam aturan diet yang tepat, memerlukan 4 unit protein/hari\n",
    "   \n",
    "   \n",
    "### Jawaban :\n",
    "Dengan menggunakan linear programming terlebih dahulu kita mendefinisikan beberapa variabel yang nantikan akan diterjemahkan kedalam suatu code dalam bahasa pemrograman. Selain itu, dalam penyelesaian persoalan menggunakan linear programming membutuhkan 3 bagian penting yaitu :\n",
    "\n",
    "1. Mendefinisikan Variabel Keputusan (Decision Variable), dalam soal ini yaitu X1 = Peanute Butter dan X2 = Steak\n",
    "2. Mendefinisikan Fungsi Objektif (Objective Functions) atau fungsi sasaran, dalam soal ini yaitu 2X1 + 3X2\n",
    "3. Mendefinisikan constrain, dalam soal ini yaitu X1 + 2X2 >= 4 "
   ]
  },
  {
   "cell_type": "code",
   "execution_count": 1,
   "metadata": {},
   "outputs": [],
   "source": [
    "#memasukan modul yang digunakan\n",
    "from pulp import *"
   ]
  },
  {
   "cell_type": "code",
   "execution_count": 2,
   "metadata": {
    "scrolled": false
   },
   "outputs": [
    {
     "data": {
      "text/plain": [
       "['Amply',\n",
       " 'AmplyError',\n",
       " 'COIN',\n",
       " 'COINMP_DLL',\n",
       " 'COINMP_DLL_load_dll',\n",
       " 'COIN_CMD',\n",
       " 'CPLEX',\n",
       " 'CPLEX_CMD',\n",
       " 'CPLEX_DLL',\n",
       " 'CPLEX_DLL_load_dll',\n",
       " 'CPLEX_PY',\n",
       " 'DIRNAME',\n",
       " 'EPS',\n",
       " 'FixedElasticSubProblem',\n",
       " 'FractionElasticSubProblem',\n",
       " 'GLPK',\n",
       " 'GLPK_CMD',\n",
       " 'GUROBI',\n",
       " 'GUROBI_CMD',\n",
       " 'GurobiFormulation',\n",
       " 'Iterable',\n",
       " 'LpAffineExpression',\n",
       " 'LpBinary',\n",
       " 'LpCategories',\n",
       " 'LpConstraint',\n",
       " 'LpConstraintEQ',\n",
       " 'LpConstraintGE',\n",
       " 'LpConstraintLE',\n",
       " 'LpConstraintSenses',\n",
       " 'LpConstraintVar',\n",
       " 'LpContinuous',\n",
       " 'LpCplexLPLineSize',\n",
       " 'LpElement',\n",
       " 'LpFractionConstraint',\n",
       " 'LpInteger',\n",
       " 'LpMaximize',\n",
       " 'LpMinimize',\n",
       " 'LpProblem',\n",
       " 'LpSenses',\n",
       " 'LpSolver',\n",
       " 'LpSolverDefault',\n",
       " 'LpSolver_CMD',\n",
       " 'LpStatus',\n",
       " 'LpStatusInfeasible',\n",
       " 'LpStatusNotSolved',\n",
       " 'LpStatusOptimal',\n",
       " 'LpStatusUnbounded',\n",
       " 'LpStatusUndefined',\n",
       " 'LpVariable',\n",
       " 'LpVariableDict',\n",
       " 'OrderedDict',\n",
       " 'PULPCFGFILE',\n",
       " 'PULP_CBC_CMD',\n",
       " 'PYGLPK',\n",
       " 'PulpError',\n",
       " 'PulpSolverError',\n",
       " 'SCIP',\n",
       " 'SCIP_CMD',\n",
       " 'VERSION',\n",
       " 'XPRESS',\n",
       " 'YAPOSIB',\n",
       " '__builtins__',\n",
       " '__cached__',\n",
       " '__doc__',\n",
       " '__file__',\n",
       " '__loader__',\n",
       " '__name__',\n",
       " '__package__',\n",
       " '__path__',\n",
       " '__spec__',\n",
       " 'allcombinations',\n",
       " 'allpermutations',\n",
       " 'amply',\n",
       " 'arch',\n",
       " 'cbc_path',\n",
       " 'clock',\n",
       " 'coinMP_path',\n",
       " 'collections',\n",
       " 'combination',\n",
       " 'configSolvers',\n",
       " 'config_filename',\n",
       " 'configparser',\n",
       " 'constants',\n",
       " 'cplex_dll_path',\n",
       " 'ctypes',\n",
       " 'ctypesArrayFill',\n",
       " 'glpk',\n",
       " 'glpk_path',\n",
       " 'gurobi_path',\n",
       " 'gurobipy',\n",
       " 'ilm_cplex_license',\n",
       " 'ilm_cplex_license_signature',\n",
       " 'initialize',\n",
       " 'isNumber',\n",
       " 'is_64bits',\n",
       " 'isiterable',\n",
       " 'itertools',\n",
       " 'log',\n",
       " 'logging',\n",
       " 'lpDot',\n",
       " 'lpSum',\n",
       " 'makeDict',\n",
       " 'maketrans',\n",
       " 'mktemp',\n",
       " 'operating_system',\n",
       " 'os',\n",
       " 'permutation',\n",
       " 'pulp',\n",
       " 'pulpDoctest',\n",
       " 'pulpTestAll',\n",
       " 'pulp_cbc_path',\n",
       " 'read_table',\n",
       " 'scip_path',\n",
       " 'setConfigInformation',\n",
       " 'solvers',\n",
       " 'sparse',\n",
       " 'splitDict',\n",
       " 'string',\n",
       " 'subprocess',\n",
       " 'sys',\n",
       " 'tests',\n",
       " 'types',\n",
       " 'uuid4',\n",
       " 'value',\n",
       " 'valueOrDefault',\n",
       " 'warnings',\n",
       " 'yaposib']"
      ]
     },
     "execution_count": 2,
     "metadata": {},
     "output_type": "execute_result"
    }
   ],
   "source": [
    "#mencari tahu ada fungsi apa saja di dalam modul pulp\n",
    "import pulp\n",
    "dir(pulp)"
   ]
  },
  {
   "cell_type": "code",
   "execution_count": 3,
   "metadata": {},
   "outputs": [],
   "source": [
    "#mendefinisikan fungsi linear programming\n",
    "#dalam kasus ini menggunakan fungsi LpMinimize\n",
    "peluang_jawaban = pulp.LpProblem(\"Diet\", pulp.LpMinimize)"
   ]
  },
  {
   "cell_type": "code",
   "execution_count": 4,
   "metadata": {},
   "outputs": [],
   "source": [
    "#mendefinisikan variabel decision X1 dan X2\n",
    "X1 = LpVariable(\"PeanuteButter\", 0, None, LpInteger)\n",
    "X2 = LpVariable(\"Steak\", 0, None, LpInteger)"
   ]
  },
  {
   "cell_type": "code",
   "execution_count": 6,
   "metadata": {},
   "outputs": [],
   "source": [
    "#mendefinisikan fungsi objective / fungsi sasaran\n",
    "peluang_jawaban += 2*X1 + 3*X2, \"Total cost\""
   ]
  },
  {
   "cell_type": "code",
   "execution_count": 7,
   "metadata": {},
   "outputs": [],
   "source": [
    "#mendefinisikan constrains\n",
    "peluang_jawaban += X1 + 2*X2 >= 4, \"Minimum Protein Intake\""
   ]
  },
  {
   "cell_type": "code",
   "execution_count": 8,
   "metadata": {},
   "outputs": [
    {
     "data": {
      "text/plain": [
       "1"
      ]
     },
     "execution_count": 8,
     "metadata": {},
     "output_type": "execute_result"
    }
   ],
   "source": [
    "#melihat jumlah atau banyaknya decision atau solusi dari permasalahan yang diberikan\n",
    "peluang_jawaban.solve()"
   ]
  },
  {
   "cell_type": "code",
   "execution_count": 9,
   "metadata": {},
   "outputs": [
    {
     "name": "stdout",
     "output_type": "stream",
     "text": [
      "Status:  Optimal\n"
     ]
    }
   ],
   "source": [
    "#melihat status dari solusi yang diberikan\n",
    "print(\"Status: \", LpStatus[peluang_jawaban.status])"
   ]
  },
  {
   "cell_type": "code",
   "execution_count": 18,
   "metadata": {},
   "outputs": [
    {
     "name": "stdout",
     "output_type": "stream",
     "text": [
      "PeanuteButter = 0.0\n",
      "Steak = 2.0\n"
     ]
    }
   ],
   "source": [
    "#melihat nilai / hasil dari penyelesaian LP \n",
    "for v in peluang_jawaban.variables():\n",
    "    print(v.name, \"=\", v.varValue)"
   ]
  },
  {
   "cell_type": "code",
   "execution_count": 11,
   "metadata": {},
   "outputs": [
    {
     "name": "stdout",
     "output_type": "stream",
     "text": [
      "Optimal Solution to the problem:  6.0\n"
     ]
    }
   ],
   "source": [
    "#melihat hasil solusi optimal dari permasalahan yang diberikan\n",
    "print(\"Optimal Solution to the problem: \", value(peluang_jawaban.objective))"
   ]
  },
  {
   "cell_type": "markdown",
   "metadata": {},
   "source": [
    "                ##Semoga Bermanfaat\n",
    "                ##@Raspiani_"
   ]
  }
 ],
 "metadata": {
  "kernelspec": {
   "display_name": "Python 3",
   "language": "python",
   "name": "python3"
  },
  "language_info": {
   "codemirror_mode": {
    "name": "ipython",
    "version": 3
   },
   "file_extension": ".py",
   "mimetype": "text/x-python",
   "name": "python",
   "nbconvert_exporter": "python",
   "pygments_lexer": "ipython3",
   "version": "3.6.5"
  }
 },
 "nbformat": 4,
 "nbformat_minor": 2
}
