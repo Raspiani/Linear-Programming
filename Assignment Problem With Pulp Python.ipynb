{
 "cells": [
  {
   "cell_type": "markdown",
   "metadata": {},
   "source": [
    "## Assignment Problem With Pulp Python\n",
    "\n",
    "Berikut ini step by step menyelesaikan assignment problem menggunakan modul pulp di python. "
   ]
  },
  {
   "cell_type": "code",
   "execution_count": 13,
   "metadata": {},
   "outputs": [],
   "source": [
    "#memasukan modul yang digunakan\n",
    "import pulp \n",
    "from pulp import *"
   ]
  },
  {
   "cell_type": "code",
   "execution_count": 14,
   "metadata": {},
   "outputs": [],
   "source": [
    "#mendefinisikan fungsi LpMinimize\n",
    "model = pulp.LpProblem(\"Assignment Problem\", pulp.LpMinimize)"
   ]
  },
  {
   "cell_type": "code",
   "execution_count": 15,
   "metadata": {},
   "outputs": [],
   "source": [
    "#mendefinisikan variabel keputusan\n",
    "\n",
    "#dalam hal ini ada 3 pekerja\n",
    "pekerja = [0,1,2]\n",
    "\n",
    "#dalam hal ini ada 3 jenis pekerjaan\n",
    "pekerjaan = [0,1,2]\n",
    "\n",
    "#dalam hal ini biaya yang dikeluarkan untuk masing-masing pekerja dengan jenis pekerjaannya\n",
    "biaya = ([1,2,1],\n",
    "         [4,5,2],\n",
    "         [7,3,9])"
   ]
  },
  {
   "cell_type": "code",
   "execution_count": 16,
   "metadata": {},
   "outputs": [],
   "source": [
    "#mendefinisikan variabel dalam modul pulp\n",
    "assign = pulp.LpVariable.dicts(\"Pekerja Mengerjakan Pekerjaan\", \n",
    "                              ((i,j) for i in pekerja for j in pekerjaan),\n",
    "                              lowBound=0,\n",
    "                              cat='Biner')"
   ]
  },
  {
   "cell_type": "code",
   "execution_count": 17,
   "metadata": {},
   "outputs": [],
   "source": [
    "#mendefinisikan fungsi sasaran\n",
    "#c[i][j]*assign[(i,j)]\n",
    "model += (pulp.lpSum([biaya[i][j]*assign[(i,j)] for i in pekerja for j in pekerjaan]))"
   ]
  },
  {
   "cell_type": "code",
   "execution_count": 18,
   "metadata": {},
   "outputs": [],
   "source": [
    "#mendefinisikan constrain\n",
    "for i in pekerja:\n",
    "    model += pulp.lpSum([assign[i,j] for j in pekerjaan]) == 1\n",
    "    \n",
    "for j in pekerjaan:\n",
    "    model += pulp.lpSum([assign[i,j] for i in pekerja]) == 1"
   ]
  },
  {
   "cell_type": "code",
   "execution_count": 19,
   "metadata": {},
   "outputs": [
    {
     "data": {
      "text/plain": [
       "1"
      ]
     },
     "execution_count": 19,
     "metadata": {},
     "output_type": "execute_result"
    }
   ],
   "source": [
    "#melihat jumlah atau banyaknya decision atau solusi dari permasalahan yang diberikan\n",
    "model.solve()"
   ]
  },
  {
   "cell_type": "code",
   "execution_count": 20,
   "metadata": {},
   "outputs": [
    {
     "name": "stdout",
     "output_type": "stream",
     "text": [
      "Status Model adalah Optimal\n"
     ]
    }
   ],
   "source": [
    "#melihat status dari solusi yang diberikan\n",
    "print(\"Status Model adalah\", pulp.LpStatus[model.status])"
   ]
  },
  {
   "cell_type": "code",
   "execution_count": 21,
   "metadata": {},
   "outputs": [
    {
     "name": "stdout",
     "output_type": "stream",
     "text": [
      "Total Biaya yang Optimal adalah 6.0\n"
     ]
    }
   ],
   "source": [
    "#melihat hasil solusi optimal dari permasalahan yang diberikan\n",
    "print(\"Total Biaya yang Optimal adalah\", pulp.value(model.objective))"
   ]
  },
  {
   "cell_type": "code",
   "execution_count": 22,
   "metadata": {},
   "outputs": [
    {
     "name": "stdout",
     "output_type": "stream",
     "text": [
      "Pekerja 0 Mengerjakan Pekerjaan 0 Keputusannya adalah 1.0\n",
      "Pekerja 0 Mengerjakan Pekerjaan 1 Keputusannya adalah 0.0\n",
      "Pekerja 0 Mengerjakan Pekerjaan 2 Keputusannya adalah 0.0\n",
      "Pekerja 1 Mengerjakan Pekerjaan 0 Keputusannya adalah 0.0\n",
      "Pekerja 1 Mengerjakan Pekerjaan 1 Keputusannya adalah 0.0\n",
      "Pekerja 1 Mengerjakan Pekerjaan 2 Keputusannya adalah 1.0\n",
      "Pekerja 2 Mengerjakan Pekerjaan 0 Keputusannya adalah 0.0\n",
      "Pekerja 2 Mengerjakan Pekerjaan 1 Keputusannya adalah 1.0\n",
      "Pekerja 2 Mengerjakan Pekerjaan 2 Keputusannya adalah 0.0\n"
     ]
    }
   ],
   "source": [
    "#Melihat hasil variabel yang optimal dalam hal ini pekerja dengan jenis pekerjaannya\n",
    "#1 = keputusan ya, 0 = keputusan tidak\n",
    "for var in assign:\n",
    "    var_value = assign[var].varValue\n",
    "    print(\"Pekerja\", var[0], \"Mengerjakan Pekerjaan\", var[1], \"Keputusannya adalah\", var_value)"
   ]
  },
  {
   "cell_type": "markdown",
   "metadata": {},
   "source": [
    "                            ##Semoga Bermanfaat\n",
    "                            ##@Raspiani_"
   ]
  }
 ],
 "metadata": {
  "kernelspec": {
   "display_name": "Python 3",
   "language": "python",
   "name": "python3"
  },
  "language_info": {
   "codemirror_mode": {
    "name": "ipython",
    "version": 3
   },
   "file_extension": ".py",
   "mimetype": "text/x-python",
   "name": "python",
   "nbconvert_exporter": "python",
   "pygments_lexer": "ipython3",
   "version": "3.6.5"
  }
 },
 "nbformat": 4,
 "nbformat_minor": 2
}
