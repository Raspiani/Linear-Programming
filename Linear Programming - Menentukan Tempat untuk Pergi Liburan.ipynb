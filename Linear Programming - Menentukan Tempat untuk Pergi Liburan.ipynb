{
 "cells": [
  {
   "cell_type": "markdown",
   "metadata": {},
   "source": [
    "## Linear Programming Dengan Python - Menentukan Tempat untuk Pergi Liburan\n",
    "\n",
    "Berikut ini Contoh Membangun Program Linier dalam Python dengan modul PULP.\n",
    "\n",
    "Rumusan Masalah: Anda ingin berlibur, tetapi Anda hanya memiliki jumlah hari terbatas. Selain itu, kami juga ingin menjaga biaya seminimal mungkin. Dan internet menawarkan banyak pilihan cara memutuskan, sehingga paket / campuran paket mana yang harus kita pilih?\n",
    "\n",
    "- Tujuan: Meminimalkan Biaya Liburan sambil memilih Paket Liburan Optimal. (Objective function)\n",
    "\n",
    "- Bentuk LP: Minimalisasi\n",
    "\n",
    "- Variabel Keputusan: Variabel Biner apakah akan membeli paket atau tidak. (Decision Variables)\n",
    "\n",
    "- Batasan: Waktu Liburan Terbatas {satuan dalam hari} (Constrains)\n",
    "\n",
    "\n",
    "Sumber : https://github.com/AnnaNican/optimizers"
   ]
  },
  {
   "cell_type": "code",
   "execution_count": 22,
   "metadata": {},
   "outputs": [],
   "source": [
    "#memasukan modul yang digunakan\n",
    "import warnings; warnings.simplefilter('ignore')\n",
    "import pandas as pd\n",
    "import re \n",
    "import matplotlib.pyplot as plt\n",
    "%matplotlib inline\n",
    "\n",
    "from pulp import *"
   ]
  },
  {
   "cell_type": "markdown",
   "metadata": {},
   "source": [
    "### Cara Mendapatkan Data\n",
    "\n",
    "Ada beberapa situs web yang menyediakan paket liburan dengan harga penuh dan diskon. Dataset dari kasus ini diambil dari The Clymb Adventures https://www.theclymb.com/Adventures.aspx"
   ]
  },
  {
   "cell_type": "markdown",
   "metadata": {},
   "source": [
    "### Memahami Dataset\n",
    "\n",
    "Dataset berisi:\n",
    "\n",
    "- Tujuan terakhir\n",
    "- Durasi perjalanan\n",
    "- Total Biaya perjalanan\n",
    "- Deskripsi singkat tentang tempat liburan"
   ]
  },
  {
   "cell_type": "code",
   "execution_count": 23,
   "metadata": {},
   "outputs": [
    {
     "data": {
      "text/plain": [
       "<_io.TextIOWrapper name='clymb_adventures.csv' mode='r' encoding='cp1252'>"
      ]
     },
     "execution_count": 23,
     "metadata": {},
     "output_type": "execute_result"
    }
   ],
   "source": [
    "#membuka data \n",
    "df = open(\"clymb_adventures.csv\")\n",
    "df"
   ]
  },
  {
   "cell_type": "code",
   "execution_count": 24,
   "metadata": {},
   "outputs": [
    {
     "data": {
      "text/html": [
       "<div>\n",
       "<style scoped>\n",
       "    .dataframe tbody tr th:only-of-type {\n",
       "        vertical-align: middle;\n",
       "    }\n",
       "\n",
       "    .dataframe tbody tr th {\n",
       "        vertical-align: top;\n",
       "    }\n",
       "\n",
       "    .dataframe thead th {\n",
       "        text-align: right;\n",
       "    }\n",
       "</style>\n",
       "<table border=\"1\" class=\"dataframe\">\n",
       "  <thead>\n",
       "    <tr style=\"text-align: right;\">\n",
       "      <th></th>\n",
       "      <th>destination</th>\n",
       "      <th>duration</th>\n",
       "      <th>cost</th>\n",
       "      <th>description</th>\n",
       "    </tr>\n",
       "  </thead>\n",
       "  <tbody>\n",
       "    <tr>\n",
       "      <th>0</th>\n",
       "      <td>Baja</td>\n",
       "      <td>7</td>\n",
       "      <td>899</td>\n",
       "      <td>Hike Bike and Sea Kayak and more on a Remote P...</td>\n",
       "    </tr>\n",
       "    <tr>\n",
       "      <th>1</th>\n",
       "      <td>Nepal</td>\n",
       "      <td>11</td>\n",
       "      <td>899</td>\n",
       "      <td>Explore the land and culture of the Himalayas....</td>\n",
       "    </tr>\n",
       "    <tr>\n",
       "      <th>2</th>\n",
       "      <td>Spain</td>\n",
       "      <td>8</td>\n",
       "      <td>568</td>\n",
       "      <td>Sport climb &amp; deep water solo in Mallorca. Dis...</td>\n",
       "    </tr>\n",
       "    <tr>\n",
       "      <th>3</th>\n",
       "      <td>Yosemite</td>\n",
       "      <td>5</td>\n",
       "      <td>750</td>\n",
       "      <td>Guided hiking through stunning high country. E...</td>\n",
       "    </tr>\n",
       "    <tr>\n",
       "      <th>4</th>\n",
       "      <td>Utah</td>\n",
       "      <td>6</td>\n",
       "      <td>1356</td>\n",
       "      <td>Hike. Canyoneer. Rock Climb. and more!. Experi...</td>\n",
       "    </tr>\n",
       "  </tbody>\n",
       "</table>\n",
       "</div>"
      ],
      "text/plain": [
       "  destination  duration  cost  \\\n",
       "0        Baja         7   899   \n",
       "1       Nepal        11   899   \n",
       "2       Spain         8   568   \n",
       "3    Yosemite         5   750   \n",
       "4        Utah         6  1356   \n",
       "\n",
       "                                         description  \n",
       "0  Hike Bike and Sea Kayak and more on a Remote P...  \n",
       "1  Explore the land and culture of the Himalayas....  \n",
       "2  Sport climb & deep water solo in Mallorca. Dis...  \n",
       "3  Guided hiking through stunning high country. E...  \n",
       "4  Hike. Canyoneer. Rock Climb. and more!. Experi...  "
      ]
     },
     "execution_count": 24,
     "metadata": {},
     "output_type": "execute_result"
    }
   ],
   "source": [
    "#membaca dan melihat 5 data pertama\n",
    "data = pd.read_csv(\"clymb_adventures.csv\", encoding='cp1252')\n",
    "data.head()"
   ]
  },
  {
   "cell_type": "code",
   "execution_count": 25,
   "metadata": {},
   "outputs": [
    {
     "name": "stdout",
     "output_type": "stream",
     "text": [
      "Daftar Nama Tempat Destinasi :  ['Baja' 'Nepal' 'Spain' 'Yosemite' 'Utah' 'San Juan Islands' 'Oregon'\n",
      " 'Hawaii' 'Alaska' 'New England' 'Colorado' 'Washington Cascades' 'Maine'\n",
      " 'Peru' 'Vietnam' 'Patagonia' 'Peru and Galapagos' 'Ecuador'\n",
      " 'Vietnam Thailand and Cambodia' 'Dominican Republic' 'Costa Rica' 'Crete']\n",
      "====================================================================================================\n",
      "Jumlah Destinansi yang ada :  22\n"
     ]
    }
   ],
   "source": [
    "#melihat banyaknya destinasi yang ada\n",
    "print(\"Daftar Nama Tempat Destinasi : \", data['destination'].unique())\n",
    "print('='*100)\n",
    "print(\"Jumlah Destinansi yang ada : \", len(data['destination'].unique()))"
   ]
  },
  {
   "cell_type": "code",
   "execution_count": 26,
   "metadata": {},
   "outputs": [
    {
     "name": "stdout",
     "output_type": "stream",
     "text": [
      "<class 'pandas.core.frame.DataFrame'>\n",
      "RangeIndex: 42 entries, 0 to 41\n",
      "Data columns (total 4 columns):\n",
      "destination    42 non-null object\n",
      "duration       42 non-null int64\n",
      "cost           42 non-null int64\n",
      "description    42 non-null object\n",
      "dtypes: int64(2), object(2)\n",
      "memory usage: 1.4+ KB\n"
     ]
    }
   ],
   "source": [
    "#melihat info data\n",
    "data.info()"
   ]
  },
  {
   "cell_type": "code",
   "execution_count": 27,
   "metadata": {
    "scrolled": false
   },
   "outputs": [
    {
     "data": {
      "image/png": "[encoded data removed]",
      "text/plain": [
       "<Figure size 432x576 with 1 Axes>"
      ]
     },
     "metadata": {},
     "output_type": "display_data"
    }
   ],
   "source": [
    "#membuat grafik destinasi terhadap biaya\n",
    "fig = plt.figure(figsize=(6,8))\n",
    "\n",
    "x1 = data['destination']\n",
    "y = data['cost']\n",
    "\n",
    "plt.barh(x1, y, color='green')\n",
    "plt.title(\"Grafik Destinasi terhadap Biaya\", fontsize = 14)\n",
    "plt.ylabel(\"Destinasi\", fontsize = 14)\n",
    "plt.xlabel(\"Biaya\", fontsize = 14)\n",
    "plt.show()"
   ]
  },
  {
   "cell_type": "code",
   "execution_count": 28,
   "metadata": {
    "scrolled": false
   },
   "outputs": [
    {
     "data": {
      "image/png": "[encoded data removed]",
      "text/plain": [
       "<Figure size 432x432 with 1 Axes>"
      ]
     },
     "metadata": {},
     "output_type": "display_data"
    }
   ],
   "source": [
    "#membuat grafik durasi terhadap biaya\n",
    "fig = plt.figure(figsize=(6,6))\n",
    "\n",
    "x2 = data['duration']\n",
    "y = data['cost']\n",
    "\n",
    "plt.bar(x2, y, color='purple')\n",
    "plt.title(\"Grafik Durasi terhadap Biaya\", fontsize = 14)\n",
    "plt.xlabel(\"Durasi\", fontsize = 14)\n",
    "plt.ylabel(\"Biaya\", fontsize = 14)\n",
    "plt.show()"
   ]
  },
  {
   "cell_type": "code",
   "execution_count": 29,
   "metadata": {},
   "outputs": [
    {
     "data": {
      "text/plain": [
       "Text(0, 0.5, 'Biaya')"
      ]
     },
     "execution_count": 29,
     "metadata": {},
     "output_type": "execute_result"
    },
    {
     "data": {
      "image/png": "[encoded data removed]",
      "text/plain": [
       "<Figure size 432x288 with 2 Axes>"
      ]
     },
     "metadata": {},
     "output_type": "display_data"
    }
   ],
   "source": [
    "#Grafik destinasi terhadap biaya\n",
    "#membuat frame dengan ukuran [-0.5,1,1,1.5]\n",
    "plt.axes([-0.5,1,1,1.5]) #left, bottom, width, hight\n",
    "\n",
    "#membuat barchart 1\n",
    "plt.bar(x1,y, color = 'red', linewidth = 2.4)\n",
    "plt.xlabel(\"Destinasi\", fontsize=12)\n",
    "plt.ylabel(\"Biaya\", fontsize=12)\n",
    "plt.xticks(rotation = 60, horizontalalignment='right')\n",
    "\n",
    "#grafik durasi terhadap biaya\n",
    "#membuat frame dengan ukuran [0.6,1,1,1.5]\n",
    "plt.axes([0.65,1,1,1.5])\n",
    "\n",
    "#membuat barchart 2\n",
    "plt.bar(x2, y, color = 'green', linewidth = 3.4)\n",
    "plt.xlabel(\"Durasi\", fontsize=12)\n",
    "plt.ylabel(\"Biaya\", fontsize=12)"
   ]
  },
  {
   "cell_type": "markdown",
   "metadata": {},
   "source": [
    "### Menyiapkan Bahan Untuk Proses Linear Programming (LP):\n",
    "\n",
    "    1. Menentukan Objek LP\n",
    "    2. Membuat Variabel Keputusan\n",
    "    3. Menentukan Fungsi Objektif atau Fungsi Sasaran\n",
    "    4. Menentukan Batasan atau Constrain"
   ]
  },
  {
   "cell_type": "markdown",
   "metadata": {},
   "source": [
    "### 1. Menentukan Objek LP\n",
    "\n",
    "   Variabel peluang_jawaban dibuat untuk berisi formulasi, dan parameter yang biasa dimasukan ke dalam LpProblem."
   ]
  },
  {
   "cell_type": "code",
   "execution_count": 30,
   "metadata": {},
   "outputs": [],
   "source": [
    "#membuat objek LP\n",
    "#atur sebagai masalah minimisasi -> karena kita ingin meminimalkan biaya \n",
    "\n",
    "peluang_jawaban = pulp.LpProblem('Going_On_Vacation', pulp.LpMinimize)"
   ]
  },
  {
   "cell_type": "markdown",
   "metadata": {},
   "source": [
    "### 2. Membuat Variabel Keputusan"
   ]
  },
  {
   "cell_type": "code",
   "execution_count": 31,
   "metadata": {},
   "outputs": [
    {
     "name": "stdout",
     "output_type": "stream",
     "text": [
      "Jumlah Total Variabel Keputusan:  42\n",
      "Array dengan Variabel Keputusan: [x0, x1, x2, x3, x4, x5, x6, x7, x8, x9, x10, x11, x12, x13, x14, x15, x16, x17, x18, x19, x20, x21, x22, x23, x24, x25, x26, x27, x28, x29, x30, x31, x32, x33, x34, x35, x36, x37, x38, x39, x40, x41]\n"
     ]
    }
   ],
   "source": [
    "decision_variables = []\n",
    "for rownum, row in data.iterrows():\n",
    "    variable = str('x' + str(rownum))\n",
    "    variable = pulp.LpVariable(str(variable), lowBound = 0, upBound = 1, cat= 'Integer') #make variables binary\n",
    "    decision_variables.append(variable)\n",
    "\n",
    "print (\"Jumlah Total Variabel Keputusan: \", len(decision_variables))\n",
    "print (\"Array dengan Variabel Keputusan:\", decision_variables)"
   ]
  },
  {
   "cell_type": "markdown",
   "metadata": {},
   "source": [
    "### 3. Menentukan Fungsi Tujuan atau Fungsi Sasaran: Meminimalkan Biaya Perjalanan LIburan\n",
    "\n",
    "Variabel peluang_jawaban, sekarang mulai mengumpulkan data permasalahan tersebut dengan operator \"+=\". Fungsi tujuan secara logis dimasukkan terlebih dahulu, dengan koma yang penting, di akhir pernyataan hasil yang menjelaskan seperti apa fungsi tujuan ini:"
   ]
  },
  {
   "cell_type": "code",
   "execution_count": 32,
   "metadata": {
    "scrolled": true
   },
   "outputs": [
    {
     "name": "stdout",
     "output_type": "stream",
     "text": [
      "Fungsi Optimasi Untuk Biaya:  899*x0 + 899*x1 + 399*x10 + 385*x11 + 439*x12 + 339*x13 + 399*x14 + 265*x15 + 849*x16 + 1799*x17 + 1799*x18 + 1499*x19 + 568*x2 + 3175*x20 + 599*x21 + 1450*x22 + 399*x23 + 1199*x24 + 2799*x25 + 2675*x26 + 1699*x27 + 599*x28 + 1798*x29 + 750*x3 + 1799*x30 + 1199*x31 + 999*x32 + 1375*x33 + 1199*x34 + 299*x35 + 2898*x36 + 499*x37 + 1499*x38 + 450*x39 + 1356*x4 + 198*x40 + 375*x41 + 680*x5 + 559*x6 + 899*x7 + 1799*x8 + 1625*x9\n"
     ]
    }
   ],
   "source": [
    "total_cost = \"\"\n",
    "for rownum, row in data.iterrows():\n",
    "    for i, schedule in enumerate(decision_variables):\n",
    "        if rownum == i:\n",
    "            formula = row['cost']*schedule\n",
    "            total_cost += formula\n",
    "\n",
    "peluang_jawaban += total_cost\n",
    "print (\"Fungsi Optimasi Untuk Biaya: \", total_cost)"
   ]
  },
  {
   "cell_type": "markdown",
   "metadata": {},
   "source": [
    "### 4. Menentukan Batasan atau Constrain : Paket Liburan yang dipilih tidak boleh melebihi total hari liburan yang sudah ditentukan "
   ]
  },
  {
   "cell_type": "code",
   "execution_count": 33,
   "metadata": {},
   "outputs": [
    {
     "name": "stdout",
     "output_type": "stream",
     "text": [
      "Fungsi Optimasi untuk Waktu Liburan 7*x0 + 11*x1 + 2*x10 + 2*x11 + 3*x12 + 2*x13 + 3*x14 + 4*x15 + 7*x16 + 8*x17 + 10*x18 + 7*x19 + 8*x2 + 13*x20 + 3*x21 + 5*x22 + 2*x23 + 5*x24 + 9*x25 + 14*x26 + 8*x27 + 4*x28 + 6*x29 + 5*x3 + 8*x30 + 11*x31 + 8*x32 + 8*x33 + 13*x34 + 4*x35 + 6*x36 + 3*x37 + 5*x38 + 4*x39 + 6*x4 + 2*x40 + 2*x41 + 4*x5 + 4*x6 + 6*x7 + 10*x8 + 7*x9\n"
     ]
    }
   ],
   "source": [
    "aval_vacation_days = 10\n",
    "total_vacation_days = \"\"\n",
    "for rownum, row in data.iterrows():\n",
    "    for i, schedule in enumerate(decision_variables):\n",
    "        if rownum == i:\n",
    "            formula = row['duration']*schedule\n",
    "            total_vacation_days += formula\n",
    "\n",
    "peluang_jawaban += (total_vacation_days == aval_vacation_days)\n",
    "print(\"Fungsi Optimasi untuk Waktu Liburan\", total_vacation_days)"
   ]
  },
  {
   "cell_type": "markdown",
   "metadata": {},
   "source": [
    "## Melihat Bentuk dari Hasil Proses Linear Programming"
   ]
  },
  {
   "cell_type": "code",
   "execution_count": 34,
   "metadata": {},
   "outputs": [
    {
     "name": "stdout",
     "output_type": "stream",
     "text": [
      "Going_On_Vacation:\n",
      "MINIMIZE\n",
      "899*x0 + 899*x1 + 399*x10 + 385*x11 + 439*x12 + 339*x13 + 399*x14 + 265*x15 + 849*x16 + 1799*x17 + 1799*x18 + 1499*x19 + 568*x2 + 3175*x20 + 599*x21 + 1450*x22 + 399*x23 + 1199*x24 + 2799*x25 + 2675*x26 + 1699*x27 + 599*x28 + 1798*x29 + 750*x3 + 1799*x30 + 1199*x31 + 999*x32 + 1375*x33 + 1199*x34 + 299*x35 + 2898*x36 + 499*x37 + 1499*x38 + 450*x39 + 1356*x4 + 198*x40 + 375*x41 + 680*x5 + 559*x6 + 899*x7 + 1799*x8 + 1625*x9 + 0\n",
      "SUBJECT TO\n",
      "_C1: 7 x0 + 11 x1 + 2 x10 + 2 x11 + 3 x12 + 2 x13 + 3 x14 + 4 x15 + 7 x16\n",
      " + 8 x17 + 10 x18 + 7 x19 + 8 x2 + 13 x20 + 3 x21 + 5 x22 + 2 x23 + 5 x24\n",
      " + 9 x25 + 14 x26 + 8 x27 + 4 x28 + 6 x29 + 5 x3 + 8 x30 + 11 x31 + 8 x32\n",
      " + 8 x33 + 13 x34 + 4 x35 + 6 x36 + 3 x37 + 5 x38 + 4 x39 + 6 x4 + 2 x40\n",
      " + 2 x41 + 4 x5 + 4 x6 + 6 x7 + 10 x8 + 7 x9 = 10\n",
      "\n",
      "VARIABLES\n",
      "0 <= x0 <= 1 Integer\n",
      "0 <= x1 <= 1 Integer\n",
      "0 <= x10 <= 1 Integer\n",
      "0 <= x11 <= 1 Integer\n",
      "0 <= x12 <= 1 Integer\n",
      "0 <= x13 <= 1 Integer\n",
      "0 <= x14 <= 1 Integer\n",
      "0 <= x15 <= 1 Integer\n",
      "0 <= x16 <= 1 Integer\n",
      "0 <= x17 <= 1 Integer\n",
      "0 <= x18 <= 1 Integer\n",
      "0 <= x19 <= 1 Integer\n",
      "0 <= x2 <= 1 Integer\n",
      "0 <= x20 <= 1 Integer\n",
      "0 <= x21 <= 1 Integer\n",
      "0 <= x22 <= 1 Integer\n",
      "0 <= x23 <= 1 Integer\n",
      "0 <= x24 <= 1 Integer\n",
      "0 <= x25 <= 1 Integer\n",
      "0 <= x26 <= 1 Integer\n",
      "0 <= x27 <= 1 Integer\n",
      "0 <= x28 <= 1 Integer\n",
      "0 <= x29 <= 1 Integer\n",
      "0 <= x3 <= 1 Integer\n",
      "0 <= x30 <= 1 Integer\n",
      "0 <= x31 <= 1 Integer\n",
      "0 <= x32 <= 1 Integer\n",
      "0 <= x33 <= 1 Integer\n",
      "0 <= x34 <= 1 Integer\n",
      "0 <= x35 <= 1 Integer\n",
      "0 <= x36 <= 1 Integer\n",
      "0 <= x37 <= 1 Integer\n",
      "0 <= x38 <= 1 Integer\n",
      "0 <= x39 <= 1 Integer\n",
      "0 <= x4 <= 1 Integer\n",
      "0 <= x40 <= 1 Integer\n",
      "0 <= x41 <= 1 Integer\n",
      "0 <= x5 <= 1 Integer\n",
      "0 <= x6 <= 1 Integer\n",
      "0 <= x7 <= 1 Integer\n",
      "0 <= x8 <= 1 Integer\n",
      "0 <= x9 <= 1 Integer\n",
      "\n"
     ]
    }
   ],
   "source": [
    "print(peluang_jawaban)\n",
    "peluang_jawaban.writeLP(\"Going_On_Vacation.lp\")"
   ]
  },
  {
   "cell_type": "markdown",
   "metadata": {},
   "source": [
    "## Melihat Hasil Optimasi Aktual (Sebenarnya)"
   ]
  },
  {
   "cell_type": "code",
   "execution_count": 35,
   "metadata": {},
   "outputs": [
    {
     "name": "stdout",
     "output_type": "stream",
     "text": [
      "Status: Optimal\n",
      "Solusi Optimal dari Soal:  762.0\n",
      "Individual decision_variables: \n",
      "x0 = 0.0\n",
      "x1 = 0.0\n",
      "x10 = 0.0\n",
      "x11 = 0.0\n",
      "x12 = 0.0\n",
      "x13 = 0.0\n",
      "x14 = 0.0\n",
      "x15 = 1.0\n",
      "x16 = 0.0\n",
      "x17 = 0.0\n",
      "x18 = 0.0\n",
      "x19 = 0.0\n",
      "x2 = 0.0\n",
      "x20 = 0.0\n",
      "x21 = 0.0\n",
      "x22 = 0.0\n",
      "x23 = 0.0\n",
      "x24 = 0.0\n",
      "x25 = 0.0\n",
      "x26 = 0.0\n",
      "x27 = 0.0\n",
      "x28 = 0.0\n",
      "x29 = 0.0\n",
      "x3 = 0.0\n",
      "x30 = 0.0\n",
      "x31 = 0.0\n",
      "x32 = 0.0\n",
      "x33 = 0.0\n",
      "x34 = 0.0\n",
      "x35 = 1.0\n",
      "x36 = 0.0\n",
      "x37 = 0.0\n",
      "x38 = 0.0\n",
      "x39 = 0.0\n",
      "x4 = 0.0\n",
      "x40 = 1.0\n",
      "x41 = 0.0\n",
      "x5 = 0.0\n",
      "x6 = 0.0\n",
      "x7 = 0.0\n",
      "x8 = 0.0\n",
      "x9 = 0.0\n"
     ]
    }
   ],
   "source": [
    "optimization_result = peluang_jawaban.solve()\n",
    "\n",
    "assert optimization_result == pulp.LpStatusOptimal\n",
    "\n",
    "#melihat status \n",
    "print(\"Status:\", LpStatus[peluang_jawaban.status])\n",
    "\n",
    "#melihat solusi optimal\n",
    "print(\"Solusi Optimal dari Soal: \", value(peluang_jawaban.objective))\n",
    "\n",
    "#melihat variabel keputusan \n",
    "print(\"Individual decision_variables: \")\n",
    "for v in peluang_jawaban.variables():\n",
    "    print(v.name, \"=\", v.varValue)"
   ]
  },
  {
   "cell_type": "markdown",
   "metadata": {},
   "source": [
    "## Menyimpan Hasil dalam Bentuk DataFrame\n",
    "\n",
    "Menggunakan no variabel/baris sebagai indeks untuk menambahkan hasilnya kembali ke dataset awal."
   ]
  },
  {
   "cell_type": "code",
   "execution_count": 36,
   "metadata": {
    "scrolled": true
   },
   "outputs": [
    {
     "data": {
      "text/html": [
       "<div>\n",
       "<style scoped>\n",
       "    .dataframe tbody tr th:only-of-type {\n",
       "        vertical-align: middle;\n",
       "    }\n",
       "\n",
       "    .dataframe tbody tr th {\n",
       "        vertical-align: top;\n",
       "    }\n",
       "\n",
       "    .dataframe thead th {\n",
       "        text-align: right;\n",
       "    }\n",
       "</style>\n",
       "<table border=\"1\" class=\"dataframe\">\n",
       "  <thead>\n",
       "    <tr style=\"text-align: right;\">\n",
       "      <th></th>\n",
       "      <th>destination</th>\n",
       "      <th>duration</th>\n",
       "      <th>cost</th>\n",
       "      <th>description</th>\n",
       "      <th>decision</th>\n",
       "    </tr>\n",
       "  </thead>\n",
       "  <tbody>\n",
       "    <tr>\n",
       "      <th>0</th>\n",
       "      <td>Baja</td>\n",
       "      <td>7</td>\n",
       "      <td>899</td>\n",
       "      <td>Hike Bike and Sea Kayak and more on a Remote P...</td>\n",
       "      <td>0.0</td>\n",
       "    </tr>\n",
       "    <tr>\n",
       "      <th>1</th>\n",
       "      <td>Nepal</td>\n",
       "      <td>11</td>\n",
       "      <td>899</td>\n",
       "      <td>Explore the land and culture of the Himalayas....</td>\n",
       "      <td>0.0</td>\n",
       "    </tr>\n",
       "    <tr>\n",
       "      <th>2</th>\n",
       "      <td>Spain</td>\n",
       "      <td>8</td>\n",
       "      <td>568</td>\n",
       "      <td>Sport climb &amp; deep water solo in Mallorca. Dis...</td>\n",
       "      <td>0.0</td>\n",
       "    </tr>\n",
       "    <tr>\n",
       "      <th>3</th>\n",
       "      <td>Yosemite</td>\n",
       "      <td>5</td>\n",
       "      <td>750</td>\n",
       "      <td>Guided hiking through stunning high country. E...</td>\n",
       "      <td>0.0</td>\n",
       "    </tr>\n",
       "    <tr>\n",
       "      <th>4</th>\n",
       "      <td>Utah</td>\n",
       "      <td>6</td>\n",
       "      <td>1356</td>\n",
       "      <td>Hike. Canyoneer. Rock Climb. and more!. Experi...</td>\n",
       "      <td>0.0</td>\n",
       "    </tr>\n",
       "    <tr>\n",
       "      <th>5</th>\n",
       "      <td>Utah</td>\n",
       "      <td>4</td>\n",
       "      <td>680</td>\n",
       "      <td>Ride mountain bike through Canyonlands. Follow...</td>\n",
       "      <td>0.0</td>\n",
       "    </tr>\n",
       "    <tr>\n",
       "      <th>6</th>\n",
       "      <td>San Juan Islands</td>\n",
       "      <td>4</td>\n",
       "      <td>559</td>\n",
       "      <td>Kayak in search of orca whales. Kayak amongst ...</td>\n",
       "      <td>0.0</td>\n",
       "    </tr>\n",
       "    <tr>\n",
       "      <th>7</th>\n",
       "      <td>Oregon</td>\n",
       "      <td>6</td>\n",
       "      <td>899</td>\n",
       "      <td>Circumnavigate Crater Lake. Experience the pri...</td>\n",
       "      <td>0.0</td>\n",
       "    </tr>\n",
       "    <tr>\n",
       "      <th>8</th>\n",
       "      <td>Hawaii</td>\n",
       "      <td>10</td>\n",
       "      <td>1799</td>\n",
       "      <td>Surf. Hike. Zipline. Swim. Snorkel. And more!....</td>\n",
       "      <td>0.0</td>\n",
       "    </tr>\n",
       "    <tr>\n",
       "      <th>9</th>\n",
       "      <td>Alaska</td>\n",
       "      <td>7</td>\n",
       "      <td>1625</td>\n",
       "      <td>Wilderness Packrafting. Packrafting is quickly...</td>\n",
       "      <td>0.0</td>\n",
       "    </tr>\n",
       "  </tbody>\n",
       "</table>\n",
       "</div>"
      ],
      "text/plain": [
       "        destination  duration  cost  \\\n",
       "0              Baja         7   899   \n",
       "1             Nepal        11   899   \n",
       "2             Spain         8   568   \n",
       "3          Yosemite         5   750   \n",
       "4              Utah         6  1356   \n",
       "5              Utah         4   680   \n",
       "6  San Juan Islands         4   559   \n",
       "7            Oregon         6   899   \n",
       "8            Hawaii        10  1799   \n",
       "9            Alaska         7  1625   \n",
       "\n",
       "                                         description  decision  \n",
       "0  Hike Bike and Sea Kayak and more on a Remote P...       0.0  \n",
       "1  Explore the land and culture of the Himalayas....       0.0  \n",
       "2  Sport climb & deep water solo in Mallorca. Dis...       0.0  \n",
       "3  Guided hiking through stunning high country. E...       0.0  \n",
       "4  Hike. Canyoneer. Rock Climb. and more!. Experi...       0.0  \n",
       "5  Ride mountain bike through Canyonlands. Follow...       0.0  \n",
       "6  Kayak in search of orca whales. Kayak amongst ...       0.0  \n",
       "7  Circumnavigate Crater Lake. Experience the pri...       0.0  \n",
       "8  Surf. Hike. Zipline. Swim. Snorkel. And more!....       0.0  \n",
       "9  Wilderness Packrafting. Packrafting is quickly...       0.0  "
      ]
     },
     "execution_count": 36,
     "metadata": {},
     "output_type": "execute_result"
    }
   ],
   "source": [
    "#membuat wadah atau tempat\n",
    "variable_name = []\n",
    "variable_value = []\n",
    "\n",
    "#memanggil nama variabel dengan nilainya \n",
    "#misalnya x10 nilainya 100\n",
    "for v in peluang_jawaban.variables():\n",
    "    variable_name.append(v.name)\n",
    "    variable_value.append(v.varValue)\n",
    "\n",
    "#menyimpan hasil nama variabel dengan nilainya yang sudah dipanggil ke dalam dataFrame \n",
    "df = pd.DataFrame({'variable': variable_name, 'value': variable_value})\n",
    "\n",
    "#memisahkan nomor variabel dengan nama variabelnya dari kolom 'variable'\n",
    "#misalnya x10 menjadi x 10 (x spasi 10) \n",
    "for rownum, row in df.iterrows():\n",
    "    value = re.findall(r'(\\d+)', row['variable']) #dari ['x10'] menjadi ['10'] \n",
    "    df.loc[rownum, 'variable'] = int(value[0]) #dari ['10'] menjadi 10 (index 10) dan menyimpannya dalam bentuk dataFrame\n",
    "\n",
    "#mengurutkan dataFrame berdasarkan kolom 'variable'\n",
    "df = df.sort_index(by='variable')\n",
    "\n",
    "#menggabungkan df hasil sorting di atas ke dalam data awal\n",
    "for rownum, row in data.iterrows():\n",
    "    for results_rownum, results_row in df.iterrows():\n",
    "        if rownum == results_row['variable']:\n",
    "            data.loc[rownum, 'decision'] = results_row['value'] #membuat kolom decision dan memasukan nilai barisnya dengan hasil nilai dari proses LP\n",
    "\n",
    "#melihat 10 data pertama\n",
    "data.head(10)"
   ]
  },
  {
   "cell_type": "code",
   "execution_count": 37,
   "metadata": {},
   "outputs": [
    {
     "data": {
      "text/html": [
       "<div>\n",
       "<style scoped>\n",
       "    .dataframe tbody tr th:only-of-type {\n",
       "        vertical-align: middle;\n",
       "    }\n",
       "\n",
       "    .dataframe tbody tr th {\n",
       "        vertical-align: top;\n",
       "    }\n",
       "\n",
       "    .dataframe thead th {\n",
       "        text-align: right;\n",
       "    }\n",
       "</style>\n",
       "<table border=\"1\" class=\"dataframe\">\n",
       "  <thead>\n",
       "    <tr style=\"text-align: right;\">\n",
       "      <th></th>\n",
       "      <th>destination</th>\n",
       "      <th>duration</th>\n",
       "      <th>cost</th>\n",
       "      <th>description</th>\n",
       "      <th>decision</th>\n",
       "    </tr>\n",
       "  </thead>\n",
       "  <tbody>\n",
       "    <tr>\n",
       "      <th>15</th>\n",
       "      <td>Maine</td>\n",
       "      <td>4</td>\n",
       "      <td>265</td>\n",
       "      <td>Ride endless singletrack. Escape to Western Ma...</td>\n",
       "      <td>1.0</td>\n",
       "    </tr>\n",
       "    <tr>\n",
       "      <th>35</th>\n",
       "      <td>Oregon</td>\n",
       "      <td>4</td>\n",
       "      <td>299</td>\n",
       "      <td>Mountain bike from hut-to-hut on the Mt Hood L...</td>\n",
       "      <td>1.0</td>\n",
       "    </tr>\n",
       "    <tr>\n",
       "      <th>40</th>\n",
       "      <td>Oregon</td>\n",
       "      <td>2</td>\n",
       "      <td>198</td>\n",
       "      <td>Learn to windsurf in Hood River. Trip for 2!. ...</td>\n",
       "      <td>1.0</td>\n",
       "    </tr>\n",
       "  </tbody>\n",
       "</table>\n",
       "</div>"
      ],
      "text/plain": [
       "   destination  duration  cost  \\\n",
       "15       Maine         4   265   \n",
       "35      Oregon         4   299   \n",
       "40      Oregon         2   198   \n",
       "\n",
       "                                          description  decision  \n",
       "15  Ride endless singletrack. Escape to Western Ma...       1.0  \n",
       "35  Mountain bike from hut-to-hut on the Mt Hood L...       1.0  \n",
       "40  Learn to windsurf in Hood River. Trip for 2!. ...       1.0  "
      ]
     },
     "execution_count": 37,
     "metadata": {},
     "output_type": "execute_result"
    }
   ],
   "source": [
    "#Melihat hasil variabel yang optimal dalam hal ini paket liburan mana yang seharusnya dipilih\n",
    "data[data['decision'] == 1]"
   ]
  },
  {
   "cell_type": "code",
   "execution_count": 38,
   "metadata": {},
   "outputs": [
    {
     "data": {
      "text/plain": [
       "762"
      ]
     },
     "execution_count": 38,
     "metadata": {},
     "output_type": "execute_result"
    }
   ],
   "source": [
    "#melihat total jumlah biaya minimum untuk perjalanan liburan\n",
    "data[data['decision'] == 1]['cost'].sum()"
   ]
  },
  {
   "cell_type": "markdown",
   "metadata": {},
   "source": [
    "                            ##Semoga Bermanfaat\n",
    "                            ##@Raspiani_"
   ]
  }
 ],
 "metadata": {
  "kernelspec": {
   "display_name": "Python 3",
   "language": "python",
   "name": "python3"
  },
  "language_info": {
   "codemirror_mode": {
    "name": "ipython",
    "version": 3
   },
   "file_extension": ".py",
   "mimetype": "text/x-python",
   "name": "python",
   "nbconvert_exporter": "python",
   "pygments_lexer": "ipython3",
   "version": "3.6.5"
  }
 },
 "nbformat": 4,
 "nbformat_minor": 2
}
